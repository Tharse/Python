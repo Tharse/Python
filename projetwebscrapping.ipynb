{
 "cells": [
  {
   "cell_type": "code",
   "execution_count": 12,
   "metadata": {},
   "outputs": [],
   "source": [
    "%matplotlib inline\n",
    "import matplotlib.pyplot as plt\n",
    "from bs4 import BeautifulSoup as bs"
   ]
  },
  {
   "cell_type": "code",
   "execution_count": 13,
   "metadata": {},
   "outputs": [
    {
     "name": "stdout",
     "output_type": "stream",
     "text": [
      "Defaulting to user installation because normal site-packages is not writeableNote: you may need to restart the kernel to use updated packages.\n",
      "\n",
      "Requirement already satisfied: requests in c:\\users\\user\\appdata\\roaming\\python\\python311\\site-packages (2.28.2)\n",
      "Requirement already satisfied: charset-normalizer<4,>=2 in c:\\users\\user\\appdata\\roaming\\python\\python311\\site-packages (from requests) (3.1.0)\n",
      "Requirement already satisfied: idna<4,>=2.5 in c:\\users\\user\\appdata\\roaming\\python\\python311\\site-packages (from requests) (3.4)\n",
      "Requirement already satisfied: urllib3<1.27,>=1.21.1 in c:\\users\\user\\appdata\\roaming\\python\\python311\\site-packages (from requests) (1.26.15)\n",
      "Requirement already satisfied: certifi>=2017.4.17 in c:\\users\\user\\appdata\\roaming\\python\\python311\\site-packages (from requests) (2022.12.7)\n"
     ]
    }
   ],
   "source": [
    "pip install requests"
   ]
  },
  {
   "cell_type": "code",
   "execution_count": 14,
   "metadata": {},
   "outputs": [
    {
     "name": "stdout",
     "output_type": "stream",
     "text": [
      "Defaulting to user installation because normal site-packages is not writeable\n",
      "Requirement already satisfied: lxml in c:\\users\\user\\appdata\\roaming\\python\\python311\\site-packages (4.9.2)\n",
      "Note: you may need to restart the kernel to use updated packages.\n"
     ]
    }
   ],
   "source": [
    "pip install lxml\n"
   ]
  },
  {
   "cell_type": "code",
   "execution_count": 15,
   "metadata": {},
   "outputs": [
    {
     "name": "stdout",
     "output_type": "stream",
     "text": [
      "Defaulting to user installation because normal site-packages is not writeable\n",
      "Requirement already satisfied: pip in c:\\users\\user\\appdata\\roaming\\python\\python311\\site-packages (23.0.1)\n",
      "Note: you may need to restart the kernel to use updated packages.\n"
     ]
    }
   ],
   "source": [
    "pip install --upgrade pip"
   ]
  },
  {
   "cell_type": "code",
   "execution_count": 18,
   "metadata": {},
   "outputs": [],
   "source": [
    "from bs4 import BeautifulSoup\n",
    "import requests\n",
    "page_content = requests.get(\"https://attaque-des-titans.fandom.com/fr/wiki/Guide_des_Arcs\").content\n",
    "soup = BeautifulSoup(page_content, 'html.parser')"
   ]
  },
  {
   "cell_type": "code",
   "execution_count": 72,
   "metadata": {},
   "outputs": [
    {
     "name": "stdout",
     "output_type": "stream",
     "text": [
      "[[], ['Arc de la Chute de Shiganshina'], [\"Arc de la 104ème Brigade d'entraînement\"], ['Arc de la Bataille de Trost'], ['Arc du Titan Féminin'], ['Arc du Choc des Titans'], ['Arc du Tournant Majeur'], ['Arc du Retour à Shiganshina'], ['Arc des Mahrs'], ['Arc du Retour à Paradis'], ['Arc du Grand Terrassement']]\n",
      "[[], ['Arc de la Chute de Shiganshina', 'Épisode 1', 'Chapitre 1'], ['Chapitre 2'], ['Chapitre 15'], ['Épisode 2', 'Chapitre 2'], ['Chapitre 3'], [\"Arc de la 104ème Brigade d'entraînement\", 'Épisode 3', 'Chapitre 15'], ['Chapitre 16'], ['Épisode 4', 'Chapitre 2'], ['Chapitre 3'], ['Chapitre 4'], ['Chapitre 17'], ['Arc de la Bataille de Trost', 'Épisode 5', 'Chapitre 4'], ['Chapitre 15'], ['Chapitre 16'], ['Épisode 6', 'Chapitre 5'], ['Chapitre 6'], ['Épisode 7', 'Chapitre 7'], ['Chapitre 8'], ['Épisode 8', 'Chapitre 9'], ['Épisode 9', 'Le caporal-chef Livaï'], ['Chapitre 10'], ['Épisode 10', 'Chapitre 11'], ['Épisode 11', 'Chapitre 12'], ['Épisode 12', 'Chapitre 13'], ['Chapitre 14'], ['Épisode 13', 'Chapitre 14'], [\"Chapitre 18 (correspond aussi à l'Arc de la 104ème Brigade d'entraînement)\"], ['Arc du Titan Féminin', 'Épisode 14', 'Chapitre 19'], ['Épisode 15', 'Chapitre 20'], ['Épisode 16', 'Chapitre 18'], ['Chapitre 21'], ['Chapitre 22'], ['Épisode 17', 'Chapitre 22'], ['Chapitre 23'], ['Épisode 18', 'Chapitre 24'], ['Chapitre 25'], ['Épisode 19', 'Chapitre 25'], ['Chapitre 26'], ['Épisode 20', 'Chapitre 27'], ['Chapitre 28'], ['Épisode 21', 'Chapitre 28'], ['Chapitre 29'], ['Épisode 22', 'Chapitre 30'], ['Épisode 23', 'Chapitre 31'], ['Chapitre 32'], ['Épisode 24', 'Chapitre 33'], ['Épisode 25', 'Chapitre 33'], ['Arc du Choc des Titans', 'Épisode 26', 'Chapitre 34'], ['Chapitre 35'], ['Épisode 27', 'Chapitre 36'], ['Chapitre 37'], ['Épisode 28', 'Chapitre 38'], ['Épisode 29', 'Chapitre 39'], ['Chapitre 40'], ['Épisode 30', 'Chapitre 40'], ['Chapitre 41'], ['Épisode 31', 'Chapitre 42'], ['Épisode 32', 'Chapitre 43'], ['Chapitre 44'], ['Épisode 33', 'Chapitre 44'], ['Chapitre 45'], ['Épisode 34', 'Chapitre 46'], ['Épisode 35', 'Chapitre 47'], ['Chapitre 89'], ['Épisode 36', 'Chapitre 48'], ['Chapitre 49'], ['Épisode 37', 'Chapitre 50'], ['Chapitre 51'], ['Arc du Tournant Majeur', 'Épisode 38', 'Chapitre 51'], ['Chapitre 52'], ['Chapitre 53'], ['Chapitre 54'], ['Chapitre 57'], ['Épisode 39', 'Chapitre 53'], ['Chapitre 54'], ['Chapitre 55'], ['Chapitre 56'], ['Chapitre 58'], ['Chapitre 59'], ['Épisode 40', 'Chapitre 52'], ['Chapitre 54'], ['Chapitre 55'], ['Chapitre 56'], ['Chapitre 57'], ['Épisode 41', 'Chapitre 57'], ['Chapitre 59'], ['Chapitre 60'], ['Épisode 42', 'Chapitre 53'], ['Chapitre 57'], ['Chapitre 61'], ['Chapitre 62'], ['Épisode 43', 'Chapitre 54'], ['Chapitre 62'], ['Chapitre 63'], ['Chapitre 64'], ['Chapitre 65'], ['Épisode 44', 'Chapitre 64'], ['Chapitre 65'], ['Chapitre 66'], ['Épisode 45', 'Chapitre 66'], ['Chapitre 67'], ['Épisode 46', 'Chapitre 67'], ['Chapitre 68'], ['Épisode 47', 'Chapitre 69'], ['Chapitre 70'], ['Épisode 48', 'Chapitre 70'], ['Chapitre 71'], ['Arc du Retour à Shiganshina', 'Épisode 49', 'Chapitre 70'], ['Chapitre 72'], ['Épisode 50', 'Chapitre 73'], ['Chapitre 74'], ['Épisode 51', 'Chapitre 75'], ['Chapitre 76'], ['Épisode 52', 'Chapitre 77'], ['Chapitre 78'], ['Chapitre 79'], ['Épisode 53', 'Chapitre 79'], ['Chapitre 80'], ['Chapitre 81'], ['Épisode 54', 'Chapitre 81'], ['Chapitre 82'], ['Épisode 55', 'Chapitre 83'], ['Chapitre 84'], ['Épisode 56', 'Chapitre 85'], ['Chapitre 86'], ['Épisode 57', 'Chapitre 86'], ['Chapitre 87'], ['Épisode 58', 'Chapitre 88'], ['Chapitre 89'], ['Épisode 59', 'Chapitre 90'], ['Arc des Mahrs', 'Épisode 60', 'Chapitre 91'], ['chapitre 92'], ['Épisode 61', 'Chapitre 93'], ['Chapitre 94'], ['Chapitre 95'], ['Épisode 62', 'Chapitre 94'], ['Chapitre 95'], ['Chapitre 96'], ['Chapitre 97'], ['Épisode 63', 'Chapitre 95'], ['Chapitre 97'], ['Chapitre 98'], ['Épisode 64', 'Chapitre 99'], ['Chapitre 100'], ['Épisode 65', 'Chapitre 100'], ['Chapitre 101'], ['Chapitre 102'], ['Épisode 66', 'Chapitre 102'], ['Chapitre 103'], ['Chapitre 104'], ['Épisode 67', 'Chapitre 104'], ['Chapitre 105'], ['Épisode 68', 'Chapitre 106'], ['Chapitre 107'], ['Arc du Retour à Paradis', 'Épisode 69', 'Chapitre 107'], ['Chapitre 108'], ['Épisode 70', 'Chapitre 107'], ['Chapitre 108'], ['Chapitre 109'], ['Épisode 71', 'Chapitre 110'], ['Chapitre 111'], ['Épisode 72', 'Chapitre 110'], ['Chapitre 111'], ['Chapitre 112'], ['Épisode 73', 'Chapitre 112'], ['Chapitre 113'], ['Épisode 74', 'Chapitre 114'], ['Épisode 75', 'Chapitre 115'], ['Chapitre 116'], ['Chapitre 117'], ['Arc du Grand Terrassement', '', '']]\n"
     ]
    }
   ],
   "source": [
    "# Trouver tous les tableaux sur la page\n",
    "tableaux = soup.find_all('table')\n",
    "\n",
    "# Boucle sur tous les tableaux pour extraire les elements dans les lignes\n",
    "donnees = []\n",
    "for tableau in tableaux:\n",
    "# Créer une liste pour chaque ligne du tableau\n",
    "    lignes = []\n",
    "    #Les Balises pour les arcs 'tr'\n",
    "    for ligne in tableau.find_all('tr'):\n",
    "# Créer une liste pour chaque cellule de la ligne\n",
    "        cellules = []\n",
    "        for cellule in ligne.find_all(['td']):\n",
    "            cellules.append(cellule.text.strip())\n",
    "        lignes.append(cellules)\n",
    "    donnees.append(lignes)\n",
    "\n",
    "# On affiche les données extrait\n",
    "for tableau in donnees:\n",
    "    print(tableau)"
   ]
  },
  {
   "cell_type": "code",
   "execution_count": 20,
   "metadata": {},
   "outputs": [
    {
     "name": "stdout",
     "output_type": "stream",
     "text": [
      "Defaulting to user installation because normal site-packages is not writeableNote: you may need to restart the kernel to use updated packages.\n",
      "\n",
      "Requirement already satisfied: pymongo in c:\\users\\user\\appdata\\roaming\\python\\python311\\site-packages (4.3.3)\n",
      "Requirement already satisfied: dnspython<3.0.0,>=1.16.0 in c:\\users\\user\\appdata\\roaming\\python\\python311\\site-packages (from pymongo) (2.3.0)\n"
     ]
    }
   ],
   "source": [
    "pip install pymongo"
   ]
  },
  {
   "cell_type": "code",
   "execution_count": 21,
   "metadata": {},
   "outputs": [],
   "source": [
    "import pymongo"
   ]
  },
  {
   "cell_type": "code",
   "execution_count": 29,
   "metadata": {},
   "outputs": [
    {
     "name": "stdout",
     "output_type": "stream",
     "text": [
      "<class 'pymongo.database.Database'>\n"
     ]
    }
   ],
   "source": [
    "print(type(db))"
   ]
  },
  {
   "cell_type": "code",
   "execution_count": 30,
   "metadata": {},
   "outputs": [
    {
     "data": {
      "text/plain": [
       "['guide_des_arcs']"
      ]
     },
     "execution_count": 30,
     "metadata": {},
     "output_type": "execute_result"
    }
   ],
   "source": [
    "db.list_collection_names()"
   ]
  },
  {
   "cell_type": "code",
   "execution_count": 61,
   "metadata": {},
   "outputs": [
    {
     "name": "stdout",
     "output_type": "stream",
     "text": [
      "Document inséré avec l'ID: 642019f3a45d9dda6517bc17\n",
      "Document inséré avec l'ID: 642019f4a45d9dda6517bc18\n",
      "Document inséré avec l'ID: 642019f4a45d9dda6517bc19\n",
      "Document inséré avec l'ID: 642019f4a45d9dda6517bc1a\n"
     ]
    }
   ],
   "source": [
    "from pymongo import MongoClient\n",
    "\n",
    "# Se connecter à la base de données MongoDB\n",
    "client = MongoClient('mongodb://localhost:27017/')\n",
    "\n",
    "# Sélectionner la base de données et la collection\n",
    "db = client['nom_de_votre_base_de_donnees']\n",
    "collection = db['nom_de_votre_collection']\n",
    "\n",
    "# Insérer les données dans la collection\n",
    "for ligne in tableau:\n",
    "    document = {\n",
    "        'arc': ligne[0],\n",
    "        'chapitre': ligne[1],\n",
    "        'épisodes': ligne[2]\n",
    "    }\n",
    "    result = collection.insert_one(document)\n",
    "    print('Document inséré avec l\\'ID: {}'.format(result.inserted_id))"
   ]
  },
  {
   "cell_type": "code",
   "execution_count": 85,
   "metadata": {},
   "outputs": [],
   "source": [
    "#TEST POUR ENCODAGE AVEC JSON\n",
    "\n",
    "from pymongo import MongoClient\n",
    "import json\n",
    "\n",
    "# Se connecter à la base de données MongoDB\n",
    "client = MongoClient('mongodb://localhost:27017/')\n",
    "\n",
    "# Sélectionner la base de données et la collection\n",
    "db = client['bdd']\n",
    "collection = db['guide_des_arcs']\n",
    "\n",
    "# Insérer les données dans la collection\n",
    "for tableau in donnees:\n",
    "    for ligne in tableau:\n",
    "        if len(ligne) == 3:\n",
    "            document = {\n",
    "                'arc': ligne[0],\n",
    "                'chapitres': ligne[1],\n",
    "                'épisodes': ligne[2]\n",
    "            }\n",
    "        else:\n",
    "            document = {\n",
    "                'arc': ligne[0],\n",
    "                'chapitres': '{}-{}'.format(ligne[1], ligne[2]),\n",
    "                'épisodes': '{}-{}'.format(ligne[3], ligne[4])\n",
    "            }\n",
    "        document_json = json.dumps(document)\n",
    "        result = collection.insert_one(document)\n",
    "        print('Document inséré avec l\\'ID: {}'.format(result.inserted_id))"
   ]
  },
  {
   "cell_type": "code",
   "execution_count": 94,
   "metadata": {},
   "outputs": [
    {
     "data": {
      "text/plain": [
       "<pymongo.results.InsertManyResult at 0x1fca569fd90>"
      ]
     },
     "execution_count": 94,
     "metadata": {},
     "output_type": "execute_result"
    }
   ],
   "source": [
    "from pymongo import MongoClient\n",
    "import pandas as pd\n",
    "\n",
    "# Se connecter à la base de données MongoDB\n",
    "client = MongoClient('mongodb://localhost:27017/')\n",
    "\n",
    "# Sélectionner la base de données et la collection\n",
    "db = client['bdd']\n",
    "collection = db['guide_des_arcs']\n",
    "\n",
    "# Charger les données dans un DataFrame pandas\n",
    "data = pd.read_csv('attaque_des_titans.csv')\n",
    "\n",
    "# Convertir les données en JSON\n",
    "data_json = data.to_json(orient='records')\n",
    "\n",
    "# Insérer les données dans la collection MongoDB\n",
    "collection.insert_many(json.loads(data_json))"
   ]
  },
  {
   "cell_type": "code",
   "execution_count": 95,
   "metadata": {},
   "outputs": [
    {
     "name": "stdout",
     "output_type": "stream",
     "text": [
      "{'_id': ObjectId('642014e1a45d9dda6517bbd6'), 'arc': 'A', 'épisodes': 'r', 'première diffusion': 'c', 'dernière diffusion': ' '}\n",
      "{'_id': ObjectId('642014e2a45d9dda6517bbd7'), 'arc': 'E', 'épisodes': 'p', 'première diffusion': 'i', 'dernière diffusion': 's'}\n",
      "{'_id': ObjectId('642014e2a45d9dda6517bbd8'), 'arc': '4', 'épisodes': ' ', 'première diffusion': 'o', 'dernière diffusion': 'c'}\n",
      "{'_id': ObjectId('642014e2a45d9dda6517bbd9'), 'arc': '2', 'épisodes': '0', 'première diffusion': ' ', 'dernière diffusion': 'd'}\n",
      "{'_id': ObjectId('642014e2a45d9dda6517bbda'), 'arc': 'A', 'épisodes': 'r', 'première diffusion': 'c', 'dernière diffusion': ' '}\n",
      "{'_id': ObjectId('642014e2a45d9dda6517bbdb'), 'arc': 'E', 'épisodes': 'p', 'première diffusion': 'i', 'dernière diffusion': 's'}\n",
      "{'_id': ObjectId('642014e2a45d9dda6517bbdc'), 'arc': '1', 'épisodes': '0', 'première diffusion': ' ', 'dernière diffusion': 'j'}\n",
      "{'_id': ObjectId('642014e2a45d9dda6517bbdd'), 'arc': '2', 'épisodes': '8', 'première diffusion': ' ', 'dernière diffusion': 'm'}\n",
      "{'_id': ObjectId('642014e2a45d9dda6517bbde'), 'arc': 'A', 'épisodes': 'r', 'première diffusion': 'c', 'dernière diffusion': ' '}\n",
      "{'_id': ObjectId('642014e2a45d9dda6517bbdf'), 'arc': 'E', 'épisodes': 'p', 'première diffusion': 'i', 'dernière diffusion': 's'}\n",
      "{'_id': ObjectId('642014e2a45d9dda6517bbe0'), 'arc': '1', 'épisodes': '1', 'première diffusion': ' ', 'dernière diffusion': 'a'}\n",
      "{'_id': ObjectId('642014e2a45d9dda6517bbe1'), 'arc': '2', 'épisodes': '7', 'première diffusion': ' ', 'dernière diffusion': 'j'}\n",
      "{'_id': ObjectId('642014e2a45d9dda6517bbe2'), 'arc': 'A', 'épisodes': 'r', 'première diffusion': 'c', 'dernière diffusion': ' '}\n",
      "{'_id': ObjectId('642014e2a45d9dda6517bbe3'), 'arc': 'E', 'épisodes': 'p', 'première diffusion': 'i', 'dernière diffusion': 's'}\n",
      "{'_id': ObjectId('642014e2a45d9dda6517bbe4'), 'arc': '4', 'épisodes': ' ', 'première diffusion': 'j', 'dernière diffusion': 'u'}\n",
      "{'_id': ObjectId('642014e2a45d9dda6517bbe5'), 'arc': '2', 'épisodes': '6', 'première diffusion': ' ', 'dernière diffusion': 's'}\n",
      "{'_id': ObjectId('642014e2a45d9dda6517bbe6'), 'arc': 'A', 'épisodes': 'r', 'première diffusion': 'c', 'dernière diffusion': ' '}\n",
      "{'_id': ObjectId('642014e2a45d9dda6517bbe7'), 'arc': 'E', 'épisodes': 'p', 'première diffusion': 'i', 'dernière diffusion': 's'}\n",
      "{'_id': ObjectId('642014e2a45d9dda6517bbe8'), 'arc': '3', 'épisodes': ' ', 'première diffusion': 'o', 'dernière diffusion': 'c'}\n",
      "{'_id': ObjectId('642014e2a45d9dda6517bbe9'), 'arc': '2', 'épisodes': ' ', 'première diffusion': 'a', 'dernière diffusion': 'v'}\n",
      "{'_id': ObjectId('642014e2a45d9dda6517bbea'), 'arc': 'A', 'épisodes': 'r', 'première diffusion': 'c', 'dernière diffusion': ' '}\n",
      "{'_id': ObjectId('642014e2a45d9dda6517bbeb'), 'arc': 'E', 'épisodes': 'p', 'première diffusion': 'i', 'dernière diffusion': 's'}\n",
      "{'_id': ObjectId('642014e2a45d9dda6517bbec'), 'arc': '9', 'épisodes': ' ', 'première diffusion': 'a', 'dernière diffusion': 'v'}\n",
      "{'_id': ObjectId('642014e2a45d9dda6517bbed'), 'arc': '2', 'épisodes': '4', 'première diffusion': ' ', 'dernière diffusion': 's'}\n",
      "{'_id': ObjectId('642014e2a45d9dda6517bbee'), 'arc': 'A', 'épisodes': 'r', 'première diffusion': 'c', 'dernière diffusion': ' '}\n",
      "{'_id': ObjectId('642014e2a45d9dda6517bbef'), 'arc': 'E', 'épisodes': 'p', 'première diffusion': 'i', 'dernière diffusion': 's'}\n",
      "{'_id': ObjectId('642014e3a45d9dda6517bbf0'), 'arc': '1', 'épisodes': 'e', 'première diffusion': 'r', 'dernière diffusion': ' '}\n",
      "{'_id': ObjectId('642014e3a45d9dda6517bbf1'), 'arc': '1', 'épisodes': '8', 'première diffusion': ' ', 'dernière diffusion': 'm'}\n",
      "{'_id': ObjectId('642014e3a45d9dda6517bbf2'), 'arc': 'A', 'épisodes': 'r', 'première diffusion': 'c', 'dernière diffusion': ' '}\n",
      "{'_id': ObjectId('642014e3a45d9dda6517bbf3'), 'arc': 'E', 'épisodes': 'p', 'première diffusion': 'i', 'dernière diffusion': 's'}\n",
      "{'_id': ObjectId('642014e3a45d9dda6517bbf4'), 'arc': '1', 'épisodes': '5', 'première diffusion': ' ', 'dernière diffusion': 'a'}\n",
      "{'_id': ObjectId('642014e3a45d9dda6517bbf5'), 'arc': '3', 'épisodes': '0', 'première diffusion': ' ', 'dernière diffusion': 's'}\n",
      "{'_id': ObjectId('642014e3a45d9dda6517bbf6'), 'arc': 'A', 'épisodes': 'r', 'première diffusion': 'c', 'dernière diffusion': ' '}\n",
      "{'_id': ObjectId('642014e3a45d9dda6517bbf7'), 'arc': 'E', 'épisodes': 'p', 'première diffusion': 'i', 'dernière diffusion': 's'}\n",
      "{'_id': ObjectId('642014e3a45d9dda6517bbf8'), 'arc': '7', 'épisodes': ' ', 'première diffusion': 'o', 'dernière diffusion': 'c'}\n",
      "{'_id': ObjectId('642014e3a45d9dda6517bbf9'), 'arc': '3', 'épisodes': '1', 'première diffusion': ' ', 'dernière diffusion': 'm'}\n",
      "{'_id': ObjectId('642014e3a45d9dda6517bbfa'), 'arc': 'A', 'épisodes': 'r', 'première diffusion': 'c', 'dernière diffusion': ' '}\n",
      "{'_id': ObjectId('642014e3a45d9dda6517bbfb'), 'arc': 'E', 'épisodes': 'p', 'première diffusion': 'i', 'dernière diffusion': 's'}\n",
      "{'_id': ObjectId('642014e3a45d9dda6517bbfc'), 'arc': '7', 'épisodes': ' ', 'première diffusion': 'a', 'dernière diffusion': 'v'}\n",
      "{'_id': ObjectId('642014e3a45d9dda6517bbfd'), 'arc': '2', 'épisodes': '9', 'première diffusion': ' ', 'dernière diffusion': 's'}\n",
      "{'_id': ObjectId('642014e3a45d9dda6517bbfe'), 'arc': 'A', 'épisodes': 'r', 'première diffusion': 'c', 'dernière diffusion': ' '}\n",
      "{'_id': ObjectId('642014e3a45d9dda6517bbff'), 'arc': 'E', 'épisodes': 'p', 'première diffusion': 'i', 'dernière diffusion': 's'}\n",
      "{'_id': ObjectId('642014e3a45d9dda6517bc00'), 'arc': '6', 'épisodes': ' ', 'première diffusion': 'o', 'dernière diffusion': 'c'}\n",
      "{'_id': ObjectId('642014e3a45d9dda6517bc01'), 'arc': '3', 'épisodes': '0', 'première diffusion': ' ', 'dernière diffusion': 'm'}\n",
      "{'_id': ObjectId('642014e3a45d9dda6517bc02'), 'arc': 'A', 'épisodes': 'r', 'première diffusion': 'c', 'dernière diffusion': ' '}\n",
      "{'_id': ObjectId('642014e3a45d9dda6517bc03'), 'arc': 'E', 'épisodes': 'p', 'première diffusion': 'i', 'dernière diffusion': 's'}\n",
      "{'_id': ObjectId('642014e3a45d9dda6517bc04'), 'arc': '6', 'épisodes': ' ', 'première diffusion': 'a', 'dernière diffusion': 'v'}\n",
      "{'_id': ObjectId('642014e3a45d9dda6517bc05'), 'arc': '2', 'épisodes': '8', 'première diffusion': ' ', 'dernière diffusion': 's'}\n",
      "{'_id': ObjectId('642014e3a45d9dda6517bc06'), 'arc': 'A', 'épisodes': 'r', 'première diffusion': 'c', 'dernière diffusion': ' '}\n",
      "{'_id': ObjectId('642014e3a45d9dda6517bc07'), 'arc': 'E', 'épisodes': 'p', 'première diffusion': 'i', 'dernière diffusion': 's'}\n",
      "{'_id': ObjectId('642014e3a45d9dda6517bc08'), 'arc': '5', 'épisodes': ' ', 'première diffusion': 'o', 'dernière diffusion': 'c'}\n",
      "{'_id': ObjectId('642014e3a45d9dda6517bc09'), 'arc': '2', 'épisodes': '8', 'première diffusion': ' ', 'dernière diffusion': 'm'}\n",
      "{'_id': ObjectId('642014e3a45d9dda6517bc0a'), 'arc': 'A', 'épisodes': 'r', 'première diffusion': 'c', 'dernière diffusion': ' '}\n",
      "{'_id': ObjectId('642014e3a45d9dda6517bc0b'), 'arc': 'E', 'épisodes': 'p', 'première diffusion': 'i', 'dernière diffusion': 's'}\n",
      "{'_id': ObjectId('642014e3a45d9dda6517bc0c'), 'arc': '3', 'épisodes': ' ', 'première diffusion': 'o', 'dernière diffusion': 'c'}\n",
      "{'_id': ObjectId('642014e3a45d9dda6517bc0d'), 'arc': 'e', 'épisodes': 'n', 'première diffusion': ' ', 'dernière diffusion': 'c'}\n",
      "{'_id': ObjectId('64201923a45d9dda6517bc11'), 'arc': 'A', 'chapitre': 'r', 'épisodes': 'c'}\n",
      "{'_id': ObjectId('64201923a45d9dda6517bc12'), 'arc': 'E', 'chapitre': 'p', 'épisodes': 'i'}\n",
      "{'_id': ObjectId('64201923a45d9dda6517bc13'), 'arc': '3', 'chapitre': ' ', 'épisodes': 'o'}\n",
      "{'_id': ObjectId('64201923a45d9dda6517bc14'), 'arc': 'e', 'chapitre': 'n', 'épisodes': ' '}\n",
      "{'_id': ObjectId('64201bb9a45d9dda6517bc57'), 'arc': 'A', 'chapitres': 'r-c', 'épisodes': ' -1'}\n",
      "{'_id': ObjectId('64201bb9a45d9dda6517bc58'), 'arc': 'E', 'chapitres': 'p-i', 'épisodes': 's-o'}\n",
      "{'_id': ObjectId('64201bb9a45d9dda6517bc59'), 'arc': '4', 'chapitres': ' -o', 'épisodes': 'c-t'}\n",
      "{'_id': ObjectId('64201bb9a45d9dda6517bc5a'), 'arc': '2', 'chapitres': '0- ', 'épisodes': 'd-é'}\n",
      "{'_id': ObjectId('64201bb9a45d9dda6517bc5b'), 'arc': 'A', 'chapitres': 'r-c', 'épisodes': ' -2'}\n",
      "{'_id': ObjectId('64201bb9a45d9dda6517bc5c'), 'arc': 'E', 'chapitres': 'p-i', 'épisodes': 's-o'}\n",
      "{'_id': ObjectId('64201bb9a45d9dda6517bc5d'), 'arc': '1', 'chapitres': '0- ', 'épisodes': 'j-a'}\n",
      "{'_id': ObjectId('64201bb9a45d9dda6517bc5e'), 'arc': '2', 'chapitres': '8- ', 'épisodes': 'm-a'}\n",
      "{'_id': ObjectId('64201bb9a45d9dda6517bc5f'), 'arc': 'A', 'chapitres': 'r-c', 'épisodes': ' -3'}\n",
      "{'_id': ObjectId('64201bb9a45d9dda6517bc60'), 'arc': 'E', 'chapitres': 'p-i', 'épisodes': 's-o'}\n",
      "{'_id': ObjectId('64201bb9a45d9dda6517bc61'), 'arc': '1', 'chapitres': '1- ', 'épisodes': 'a-v'}\n",
      "{'_id': ObjectId('64201bb9a45d9dda6517bc62'), 'arc': '2', 'chapitres': '7- ', 'épisodes': 'j-u'}\n",
      "{'_id': ObjectId('64201bb9a45d9dda6517bc63'), 'arc': 'A', 'chapitres': 'r-c', 'épisodes': ' -4'}\n",
      "{'_id': ObjectId('64201bb9a45d9dda6517bc64'), 'arc': 'E', 'chapitres': 'p-i', 'épisodes': 's-o'}\n",
      "{'_id': ObjectId('64201bb9a45d9dda6517bc65'), 'arc': '4', 'chapitres': ' -j', 'épisodes': 'u-i'}\n",
      "{'_id': ObjectId('64201bb9a45d9dda6517bc66'), 'arc': '2', 'chapitres': '6- ', 'épisodes': 's-e'}\n",
      "{'_id': ObjectId('64201bb9a45d9dda6517bc67'), 'arc': 'A', 'chapitres': 'r-c', 'épisodes': ' -5'}\n",
      "{'_id': ObjectId('64201bb9a45d9dda6517bc68'), 'arc': 'E', 'chapitres': 'p-i', 'épisodes': 's-o'}\n",
      "{'_id': ObjectId('64201bb9a45d9dda6517bc69'), 'arc': '3', 'chapitres': ' -o', 'épisodes': 'c-t'}\n",
      "{'_id': ObjectId('64201bb9a45d9dda6517bc6a'), 'arc': '2', 'chapitres': ' -a', 'épisodes': 'v-r'}\n",
      "{'_id': ObjectId('64201bb9a45d9dda6517bc6b'), 'arc': 'A', 'chapitres': 'r-c', 'épisodes': ' -6'}\n",
      "{'_id': ObjectId('64201bb9a45d9dda6517bc6c'), 'arc': 'E', 'chapitres': 'p-i', 'épisodes': 's-o'}\n",
      "{'_id': ObjectId('64201bb9a45d9dda6517bc6d'), 'arc': '9', 'chapitres': ' -a', 'épisodes': 'v-r'}\n",
      "{'_id': ObjectId('64201bb9a45d9dda6517bc6e'), 'arc': '2', 'chapitres': '4- ', 'épisodes': 's-e'}\n",
      "{'_id': ObjectId('64201bb9a45d9dda6517bc6f'), 'arc': 'A', 'chapitres': 'r-c', 'épisodes': ' -7'}\n",
      "{'_id': ObjectId('64201bb9a45d9dda6517bc70'), 'arc': 'E', 'chapitres': 'p-i', 'épisodes': 's-o'}\n",
      "{'_id': ObjectId('64201bb9a45d9dda6517bc71'), 'arc': '1', 'chapitres': 'e-r', 'épisodes': ' -o'}\n",
      "{'_id': ObjectId('64201bb9a45d9dda6517bc72'), 'arc': '1', 'chapitres': '8- ', 'épisodes': 'm-a'}\n",
      "{'_id': ObjectId('64201bb9a45d9dda6517bc73'), 'arc': 'A', 'chapitres': 'r-c', 'épisodes': ' -8'}\n",
      "{'_id': ObjectId('64201bb9a45d9dda6517bc74'), 'arc': 'E', 'chapitres': 'p-i', 'épisodes': 's-o'}\n",
      "{'_id': ObjectId('64201bb9a45d9dda6517bc75'), 'arc': '1', 'chapitres': '5- ', 'épisodes': 'a-v'}\n",
      "{'_id': ObjectId('64201bb9a45d9dda6517bc76'), 'arc': '3', 'chapitres': '0- ', 'épisodes': 's-e'}\n",
      "{'_id': ObjectId('64201bb9a45d9dda6517bc77'), 'arc': 'A', 'chapitres': 'r-c', 'épisodes': ' -9'}\n",
      "{'_id': ObjectId('64201bb9a45d9dda6517bc78'), 'arc': 'E', 'chapitres': 'p-i', 'épisodes': 's-o'}\n",
      "{'_id': ObjectId('64201bb9a45d9dda6517bc79'), 'arc': '7', 'chapitres': ' -o', 'épisodes': 'c-t'}\n",
      "{'_id': ObjectId('64201bb9a45d9dda6517bc7a'), 'arc': '3', 'chapitres': '1- ', 'épisodes': 'm-a'}\n",
      "{'_id': ObjectId('64201bb9a45d9dda6517bc7b'), 'arc': 'A', 'chapitres': 'r-c', 'épisodes': ' -1'}\n",
      "{'_id': ObjectId('64201bb9a45d9dda6517bc7c'), 'arc': 'E', 'chapitres': 'p-i', 'épisodes': 's-o'}\n",
      "{'_id': ObjectId('64201bb9a45d9dda6517bc7d'), 'arc': '7', 'chapitres': ' -a', 'épisodes': 'v-r'}\n",
      "{'_id': ObjectId('64201bb9a45d9dda6517bc7e'), 'arc': '2', 'chapitres': '9- ', 'épisodes': 's-e'}\n",
      "{'_id': ObjectId('64201bb9a45d9dda6517bc7f'), 'arc': 'A', 'chapitres': 'r-c', 'épisodes': ' -1'}\n",
      "{'_id': ObjectId('64201bb9a45d9dda6517bc80'), 'arc': 'E', 'chapitres': 'p-i', 'épisodes': 's-o'}\n",
      "{'_id': ObjectId('64201bb9a45d9dda6517bc81'), 'arc': '6', 'chapitres': ' -o', 'épisodes': 'c-t'}\n",
      "{'_id': ObjectId('64201bb9a45d9dda6517bc82'), 'arc': '3', 'chapitres': '0- ', 'épisodes': 'm-a'}\n",
      "{'_id': ObjectId('64201bb9a45d9dda6517bc83'), 'arc': 'A', 'chapitres': 'r-c', 'épisodes': ' -1'}\n",
      "{'_id': ObjectId('64201bb9a45d9dda6517bc84'), 'arc': 'E', 'chapitres': 'p-i', 'épisodes': 's-o'}\n",
      "{'_id': ObjectId('64201bb9a45d9dda6517bc85'), 'arc': '6', 'chapitres': ' -a', 'épisodes': 'v-r'}\n",
      "{'_id': ObjectId('64201bb9a45d9dda6517bc86'), 'arc': '2', 'chapitres': '8- ', 'épisodes': 's-e'}\n",
      "{'_id': ObjectId('64201bb9a45d9dda6517bc87'), 'arc': 'A', 'chapitres': 'r-c', 'épisodes': ' -1'}\n",
      "{'_id': ObjectId('64201bb9a45d9dda6517bc88'), 'arc': 'E', 'chapitres': 'p-i', 'épisodes': 's-o'}\n",
      "{'_id': ObjectId('64201bb9a45d9dda6517bc89'), 'arc': '5', 'chapitres': ' -o', 'épisodes': 'c-t'}\n",
      "{'_id': ObjectId('64201bb9a45d9dda6517bc8a'), 'arc': '2', 'chapitres': '8- ', 'épisodes': 'm-a'}\n",
      "{'_id': ObjectId('64201bb9a45d9dda6517bc8b'), 'arc': 'A', 'chapitres': 'r-c', 'épisodes': ' -1'}\n",
      "{'_id': ObjectId('64201bb9a45d9dda6517bc8c'), 'arc': 'E', 'chapitres': 'p-i', 'épisodes': 's-o'}\n",
      "{'_id': ObjectId('64201bb9a45d9dda6517bc8d'), 'arc': '3', 'chapitres': ' -o', 'épisodes': 'c-t'}\n",
      "{'_id': ObjectId('64201bb9a45d9dda6517bc8e'), 'arc': 'e', 'chapitres': 'n- ', 'épisodes': 'c-o'}\n",
      "{'_id': ObjectId('64202ec8a45d9dda6517bca3'), 'Couleur des arcs': 'Arc de la Chute de Shiganshina', 'Unnamed: 1': None, 'Unnamed: 2': None, 'Unnamed: 3': None, 'Unnamed: 4': None, 'Unnamed: 5': None, 'Unnamed: 6': None, 'Unnamed: 7': None, 'Unnamed: 8': None, 'Unnamed: 9': None, 'Unnamed: 10': None}\n",
      "{'_id': ObjectId('64202ec8a45d9dda6517bca4'), 'Couleur des arcs': \"Arc de la 104ème Brigade d'entraînement\", 'Unnamed: 1': None, 'Unnamed: 2': None, 'Unnamed: 3': None, 'Unnamed: 4': None, 'Unnamed: 5': None, 'Unnamed: 6': None, 'Unnamed: 7': None, 'Unnamed: 8': None, 'Unnamed: 9': None, 'Unnamed: 10': None}\n",
      "{'_id': ObjectId('64202ec8a45d9dda6517bca5'), 'Couleur des arcs': 'Arc de la Bataille de Trost', 'Unnamed: 1': None, 'Unnamed: 2': None, 'Unnamed: 3': None, 'Unnamed: 4': None, 'Unnamed: 5': None, 'Unnamed: 6': None, 'Unnamed: 7': None, 'Unnamed: 8': None, 'Unnamed: 9': None, 'Unnamed: 10': None}\n",
      "{'_id': ObjectId('64202ec8a45d9dda6517bca6'), 'Couleur des arcs': 'Arc du Titan Féminin', 'Unnamed: 1': None, 'Unnamed: 2': None, 'Unnamed: 3': None, 'Unnamed: 4': None, 'Unnamed: 5': None, 'Unnamed: 6': None, 'Unnamed: 7': None, 'Unnamed: 8': None, 'Unnamed: 9': None, 'Unnamed: 10': None}\n",
      "{'_id': ObjectId('64202ec8a45d9dda6517bca7'), 'Couleur des arcs': 'Arc du Choc des Titans', 'Unnamed: 1': None, 'Unnamed: 2': None, 'Unnamed: 3': None, 'Unnamed: 4': None, 'Unnamed: 5': None, 'Unnamed: 6': None, 'Unnamed: 7': None, 'Unnamed: 8': None, 'Unnamed: 9': None, 'Unnamed: 10': None}\n",
      "{'_id': ObjectId('64202ec8a45d9dda6517bca8'), 'Couleur des arcs': 'Arc du Tournant Majeur', 'Unnamed: 1': None, 'Unnamed: 2': None, 'Unnamed: 3': None, 'Unnamed: 4': None, 'Unnamed: 5': None, 'Unnamed: 6': None, 'Unnamed: 7': None, 'Unnamed: 8': None, 'Unnamed: 9': None, 'Unnamed: 10': None}\n",
      "{'_id': ObjectId('64202ec8a45d9dda6517bca9'), 'Couleur des arcs': 'Arc du Retour à Shiganshina', 'Unnamed: 1': None, 'Unnamed: 2': None, 'Unnamed: 3': None, 'Unnamed: 4': None, 'Unnamed: 5': None, 'Unnamed: 6': None, 'Unnamed: 7': None, 'Unnamed: 8': None, 'Unnamed: 9': None, 'Unnamed: 10': None}\n",
      "{'_id': ObjectId('64202ec8a45d9dda6517bcaa'), 'Couleur des arcs': 'Arc des Mahrs', 'Unnamed: 1': None, 'Unnamed: 2': None, 'Unnamed: 3': None, 'Unnamed: 4': None, 'Unnamed: 5': None, 'Unnamed: 6': None, 'Unnamed: 7': None, 'Unnamed: 8': None, 'Unnamed: 9': None, 'Unnamed: 10': None}\n",
      "{'_id': ObjectId('64202ec8a45d9dda6517bcab'), 'Couleur des arcs': 'Arc du Retour à Paradis', 'Unnamed: 1': None, 'Unnamed: 2': None, 'Unnamed: 3': None, 'Unnamed: 4': None, 'Unnamed: 5': None, 'Unnamed: 6': None, 'Unnamed: 7': None, 'Unnamed: 8': None, 'Unnamed: 9': None, 'Unnamed: 10': None}\n",
      "{'_id': ObjectId('64202ec8a45d9dda6517bcac'), 'Couleur des arcs': 'Arc du Grand Terrassement', 'Unnamed: 1': None, 'Unnamed: 2': None, 'Unnamed: 3': None, 'Unnamed: 4': None, 'Unnamed: 5': None, 'Unnamed: 6': None, 'Unnamed: 7': None, 'Unnamed: 8': None, 'Unnamed: 9': None, 'Unnamed: 10': None}\n"
     ]
    }
   ],
   "source": [
    "# Se connecter à la base de données MongoDB\n",
    "client = MongoClient('mongodb://localhost:27017/')\n",
    "db = client['bdd']\n",
    "collection = db['guide_des_arcs']\n",
    "\n",
    "# Récupérer tous les documents dans la collection\n",
    "documents = collection.find()\n",
    "\n",
    "# Afficher les elements ingérer\n",
    "for document in documents:\n",
    "    print(document)\n"
   ]
  },
  {
   "cell_type": "code",
   "execution_count": 103,
   "metadata": {},
   "outputs": [
    {
     "name": "stdout",
     "output_type": "stream",
     "text": [
      "                                        Arc\n",
      "0                                      None\n",
      "1            Arc de la Chute de Shiganshina\n",
      "2   Arc de la 104ème Brigade d'entraînement\n",
      "3               Arc de la Bataille de Trost\n",
      "4                      Arc du Titan Féminin\n",
      "5                    Arc du Choc des Titans\n",
      "6                    Arc du Tournant Majeur\n",
      "7               Arc du Retour à Shiganshina\n",
      "8                             Arc des Mahrs\n",
      "9                   Arc du Retour à Paradis\n",
      "10                Arc du Grand Terrassement\n"
     ]
    }
   ],
   "source": [
    "import pandas as pd\n",
    "\n",
    "# Créer un DataFrame à partir de la variable tableau\n",
    "df = pd.DataFrame(tableau, columns=[\"Arc\"])\n",
    "\n",
    "# Afficher le DataFrame\n",
    "print(df)\n"
   ]
  },
  {
   "cell_type": "code",
   "execution_count": 48,
   "metadata": {},
   "outputs": [
    {
     "name": "stdout",
     "output_type": "stream",
     "text": [
      "Defaulting to user installation because normal site-packages is not writeableNote: you may need to restart the kernel to use updated packages.\n",
      "\n",
      "Requirement already satisfied: streamlit in c:\\users\\user\\appdata\\roaming\\python\\python311\\site-packages (1.20.0)\n",
      "Requirement already satisfied: altair<5,>=3.2.0 in c:\\users\\user\\appdata\\roaming\\python\\python311\\site-packages (from streamlit) (4.2.2)\n",
      "Requirement already satisfied: blinker>=1.0.0 in c:\\users\\user\\appdata\\roaming\\python\\python311\\site-packages (from streamlit) (1.5)\n",
      "Requirement already satisfied: cachetools>=4.0 in c:\\users\\user\\appdata\\roaming\\python\\python311\\site-packages (from streamlit) (5.3.0)\n",
      "Requirement already satisfied: click>=7.0 in c:\\users\\user\\appdata\\roaming\\python\\python311\\site-packages (from streamlit) (8.1.3)\n",
      "Requirement already satisfied: importlib-metadata>=1.4 in c:\\users\\user\\appdata\\roaming\\python\\python311\\site-packages (from streamlit) (6.1.0)\n",
      "Requirement already satisfied: numpy in c:\\users\\user\\appdata\\roaming\\python\\python311\\site-packages (from streamlit) (1.23.5)\n",
      "Requirement already satisfied: packaging>=14.1 in c:\\users\\user\\appdata\\roaming\\python\\python311\\site-packages (from streamlit) (21.3)\n",
      "Requirement already satisfied: pandas<2,>=0.25 in c:\\users\\user\\appdata\\roaming\\python\\python311\\site-packages (from streamlit) (1.5.2)\n",
      "Requirement already satisfied: pillow>=6.2.0 in c:\\users\\user\\appdata\\roaming\\python\\python311\\site-packages (from streamlit) (9.3.0)\n",
      "Requirement already satisfied: protobuf<4,>=3.12 in c:\\users\\user\\appdata\\roaming\\python\\python311\\site-packages (from streamlit) (3.20.3)\n",
      "Requirement already satisfied: pyarrow>=4.0 in c:\\users\\user\\appdata\\roaming\\python\\python311\\site-packages (from streamlit) (11.0.0)\n",
      "Requirement already satisfied: pympler>=0.9 in c:\\users\\user\\appdata\\roaming\\python\\python311\\site-packages (from streamlit) (1.0.1)\n",
      "Requirement already satisfied: python-dateutil in c:\\users\\user\\appdata\\roaming\\python\\python311\\site-packages (from streamlit) (2.8.2)\n",
      "Requirement already satisfied: requests>=2.4 in c:\\users\\user\\appdata\\roaming\\python\\python311\\site-packages (from streamlit) (2.28.2)\n",
      "Requirement already satisfied: rich>=10.11.0 in c:\\users\\user\\appdata\\roaming\\python\\python311\\site-packages (from streamlit) (13.3.2)\n",
      "Requirement already satisfied: semver in c:\\users\\user\\appdata\\roaming\\python\\python311\\site-packages (from streamlit) (2.13.0)\n",
      "Requirement already satisfied: toml in c:\\users\\user\\appdata\\roaming\\python\\python311\\site-packages (from streamlit) (0.10.2)\n",
      "Requirement already satisfied: typing-extensions>=3.10.0.0 in c:\\users\\user\\appdata\\roaming\\python\\python311\\site-packages (from streamlit) (4.5.0)\n",
      "Requirement already satisfied: tzlocal>=1.1 in c:\\users\\user\\appdata\\roaming\\python\\python311\\site-packages (from streamlit) (4.3)\n",
      "Requirement already satisfied: validators>=0.2 in c:\\users\\user\\appdata\\roaming\\python\\python311\\site-packages (from streamlit) (0.20.0)\n",
      "Requirement already satisfied: gitpython!=3.1.19 in c:\\users\\user\\appdata\\roaming\\python\\python311\\site-packages (from streamlit) (3.1.31)\n",
      "Requirement already satisfied: pydeck>=0.1.dev5 in c:\\users\\user\\appdata\\roaming\\python\\python311\\site-packages (from streamlit) (0.8.0)\n",
      "Requirement already satisfied: tornado>=6.0.3 in c:\\users\\user\\appdata\\roaming\\python\\python311\\site-packages (from streamlit) (6.2)\n",
      "Requirement already satisfied: watchdog in c:\\users\\user\\appdata\\roaming\\python\\python311\\site-packages (from streamlit) (3.0.0)\n",
      "Requirement already satisfied: entrypoints in c:\\users\\user\\appdata\\roaming\\python\\python311\\site-packages (from altair<5,>=3.2.0->streamlit) (0.4)\n",
      "Requirement already satisfied: jinja2 in c:\\users\\user\\appdata\\roaming\\python\\python311\\site-packages (from altair<5,>=3.2.0->streamlit) (3.1.2)\n",
      "Requirement already satisfied: jsonschema>=3.0 in c:\\users\\user\\appdata\\roaming\\python\\python311\\site-packages (from altair<5,>=3.2.0->streamlit) (4.17.0)\n",
      "Requirement already satisfied: toolz in c:\\users\\user\\appdata\\roaming\\python\\python311\\site-packages (from altair<5,>=3.2.0->streamlit) (0.12.0)\n",
      "Requirement already satisfied: colorama in c:\\users\\user\\appdata\\roaming\\python\\python311\\site-packages (from click>=7.0->streamlit) (0.4.6)\n",
      "Requirement already satisfied: gitdb<5,>=4.0.1 in c:\\users\\user\\appdata\\roaming\\python\\python311\\site-packages (from gitpython!=3.1.19->streamlit) (4.0.10)\n",
      "Requirement already satisfied: zipp>=0.5 in c:\\users\\user\\appdata\\roaming\\python\\python311\\site-packages (from importlib-metadata>=1.4->streamlit) (3.15.0)\n",
      "Requirement already satisfied: pyparsing!=3.0.5,>=2.0.2 in c:\\users\\user\\appdata\\roaming\\python\\python311\\site-packages (from packaging>=14.1->streamlit) (3.0.9)\n",
      "Requirement already satisfied: pytz>=2020.1 in c:\\users\\user\\appdata\\roaming\\python\\python311\\site-packages (from pandas<2,>=0.25->streamlit) (2022.6)\n",
      "Requirement already satisfied: six>=1.5 in c:\\users\\user\\appdata\\roaming\\python\\python311\\site-packages (from python-dateutil->streamlit) (1.16.0)\n",
      "Requirement already satisfied: charset-normalizer<4,>=2 in c:\\users\\user\\appdata\\roaming\\python\\python311\\site-packages (from requests>=2.4->streamlit) (3.1.0)\n",
      "Requirement already satisfied: idna<4,>=2.5 in c:\\users\\user\\appdata\\roaming\\python\\python311\\site-packages (from requests>=2.4->streamlit) (3.4)\n",
      "Requirement already satisfied: urllib3<1.27,>=1.21.1 in c:\\users\\user\\appdata\\roaming\\python\\python311\\site-packages (from requests>=2.4->streamlit) (1.26.15)\n",
      "Requirement already satisfied: certifi>=2017.4.17 in c:\\users\\user\\appdata\\roaming\\python\\python311\\site-packages (from requests>=2.4->streamlit) (2022.12.7)\n",
      "Requirement already satisfied: markdown-it-py<3.0.0,>=2.2.0 in c:\\users\\user\\appdata\\roaming\\python\\python311\\site-packages (from rich>=10.11.0->streamlit) (2.2.0)\n",
      "Requirement already satisfied: pygments<3.0.0,>=2.13.0 in c:\\users\\user\\appdata\\roaming\\python\\python311\\site-packages (from rich>=10.11.0->streamlit) (2.13.0)\n",
      "Requirement already satisfied: pytz-deprecation-shim in c:\\users\\user\\appdata\\roaming\\python\\python311\\site-packages (from tzlocal>=1.1->streamlit) (0.1.0.post0)\n",
      "Requirement already satisfied: tzdata in c:\\users\\user\\appdata\\roaming\\python\\python311\\site-packages (from tzlocal>=1.1->streamlit) (2023.2)\n",
      "Requirement already satisfied: decorator>=3.4.0 in c:\\users\\user\\appdata\\roaming\\python\\python311\\site-packages (from validators>=0.2->streamlit) (5.1.1)\n",
      "Requirement already satisfied: smmap<6,>=3.0.1 in c:\\users\\user\\appdata\\roaming\\python\\python311\\site-packages (from gitdb<5,>=4.0.1->gitpython!=3.1.19->streamlit) (5.0.0)\n",
      "Requirement already satisfied: MarkupSafe>=2.0 in c:\\users\\user\\appdata\\roaming\\python\\python311\\site-packages (from jinja2->altair<5,>=3.2.0->streamlit) (2.1.1)\n",
      "Requirement already satisfied: attrs>=17.4.0 in c:\\users\\user\\appdata\\roaming\\python\\python311\\site-packages (from jsonschema>=3.0->altair<5,>=3.2.0->streamlit) (22.1.0)\n",
      "Requirement already satisfied: pyrsistent!=0.17.0,!=0.17.1,!=0.17.2,>=0.14.0 in c:\\users\\user\\appdata\\roaming\\python\\python311\\site-packages (from jsonschema>=3.0->altair<5,>=3.2.0->streamlit) (0.19.2)\n",
      "Requirement already satisfied: mdurl~=0.1 in c:\\users\\user\\appdata\\roaming\\python\\python311\\site-packages (from markdown-it-py<3.0.0,>=2.2.0->rich>=10.11.0->streamlit) (0.1.2)\n"
     ]
    }
   ],
   "source": [
    "pip install streamlit"
   ]
  },
  {
   "cell_type": "code",
   "execution_count": 80,
   "metadata": {},
   "outputs": [
    {
     "name": "stderr",
     "output_type": "stream",
     "text": [
      "2023-03-26 13:11:09.584 Serialization of dataframe to Arrow table was unsuccessful due to: (\"Could not convert ObjectId('642014e1a45d9dda6517bbd6') with type ObjectId: did not recognize Python value type when inferring an Arrow data type\", 'Conversion failed for column _id with type object'). Applying automatic fixes for column types to make the dataframe Arrow-compatible.\n"
     ]
    }
   ],
   "source": [
    "import streamlit as st\n",
    "from pymongo import MongoClient\n",
    "\n",
    "# Se connecter à la base de données MongoDB\n",
    "client = MongoClient('mongodb://localhost:27017/')\n",
    "db = client['bdd']\n",
    "collection = db['guide_des_arcs']\n",
    "\n",
    "# Récupérer les données depuis la collection\n",
    "donnees = collection.find()\n",
    "\n",
    "# Afficher les données sous forme de tableau sur Streamlit\n",
    "st.title('Liste des arcs de l\\'attaque des titans')\n",
    "st.table(donnees)\n",
    "\n",
    "#   cd C:\\Users\\User\\Downloads\n",
    "#   streamlit run streamlit_app.py\n",
    "#   https://github.com/Tharse/Python.git\n"
   ]
  }
 ],
 "metadata": {
  "kernelspec": {
   "display_name": "Python 3",
   "language": "python",
   "name": "python3"
  },
  "language_info": {
   "codemirror_mode": {
    "name": "ipython",
    "version": 3
   },
   "file_extension": ".py",
   "mimetype": "text/x-python",
   "name": "python",
   "nbconvert_exporter": "python",
   "pygments_lexer": "ipython3",
   "version": "3.11.0"
  },
  "orig_nbformat": 4
 },
 "nbformat": 4,
 "nbformat_minor": 2
}
